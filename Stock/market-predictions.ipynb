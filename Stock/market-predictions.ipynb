{
 "cells": [
  {
   "cell_type": "code",
   "execution_count": 1,
   "metadata": {},
   "outputs": [],
   "source": [
    "import pandas as pd\n",
    "import numpy as np\n",
    "from sklearn.feature_selection import SelectKBest, chi2"
   ]
  },
  {
   "cell_type": "code",
   "execution_count": 12,
   "metadata": {},
   "outputs": [],
   "source": [
    "# fundamentals has 79 unique columns\n",
    "data = pd.read_csv(\"fundamentals.csv\")\n",
    "X = data.iloc[:, 0:79]\n",
    "y = data.iloc[:,-1]"
   ]
  },
  {
   "cell_type": "code",
   "execution_count": 21,
   "metadata": {},
   "outputs": [
    {
     "name": "stdout",
     "output_type": "stream",
     "text": [
      "Unnamed: 0\n",
      "Ticker Symbol\n",
      "Period Ending\n",
      "Accounts Payable\n",
      "Accounts Receivable\n",
      "Add'l income/expense items\n",
      "After Tax ROE\n",
      "Capital Expenditures\n",
      "Capital Surplus\n",
      "Cash Ratio\n",
      "Cash and Cash Equivalents\n",
      "Changes in Inventories\n",
      "Common Stocks\n",
      "Cost of Revenue\n",
      "Current Ratio\n",
      "Deferred Asset Charges\n",
      "Deferred Liability Charges\n",
      "Depreciation\n",
      "Earnings Before Interest and Tax\n",
      "Earnings Before Tax\n",
      "Effect of Exchange Rate\n",
      "Equity Earnings/Loss Unconsolidated Subsidiary\n",
      "Fixed Assets\n",
      "Goodwill\n",
      "Gross Margin\n",
      "Gross Profit\n",
      "Income Tax\n",
      "Intangible Assets\n",
      "Interest Expense\n",
      "Inventory\n",
      "Investments\n",
      "Liabilities\n",
      "Long-Term Debt\n",
      "Long-Term Investments\n",
      "Minority Interest\n",
      "Misc. Stocks\n",
      "Net Borrowings\n",
      "Net Cash Flow\n",
      "Net Cash Flow-Operating\n",
      "Net Cash Flows-Financing\n",
      "Net Cash Flows-Investing\n",
      "Net Income\n",
      "Net Income Adjustments\n",
      "Net Income Applicable to Common Shareholders\n",
      "Net Income-Cont. Operations\n",
      "Net Receivables\n",
      "Non-Recurring Items\n",
      "Operating Income\n",
      "Operating Margin\n",
      "Other Assets\n",
      "Other Current Assets\n",
      "Other Current Liabilities\n",
      "Other Equity\n",
      "Other Financing Activities\n",
      "Other Investing Activities\n",
      "Other Liabilities\n",
      "Other Operating Activities\n",
      "Other Operating Items\n",
      "Pre-Tax Margin\n",
      "Pre-Tax ROE\n",
      "Profit Margin\n",
      "Quick Ratio\n",
      "Research and Development\n",
      "Retained Earnings\n",
      "Sale and Purchase of Stock\n",
      "Sales, General and Admin.\n",
      "Short-Term Debt / Current Portion of Long-Term Debt\n",
      "Short-Term Investments\n",
      "Total Assets\n",
      "Total Current Assets\n",
      "Total Current Liabilities\n",
      "Total Equity\n",
      "Total Liabilities\n",
      "Total Liabilities & Equity\n",
      "Total Revenue\n",
      "Treasury Stock\n",
      "For Year\n",
      "Earnings Per Share\n",
      "Estimated Shares Outstanding\n"
     ]
    }
   ],
   "source": [
    "for col in X.columns:\n",
    "    print(col)\n"
   ]
  },
  {
   "cell_type": "code",
   "execution_count": null,
   "metadata": {},
   "outputs": [],
   "source": []
  }
 ],
 "metadata": {
  "kernelspec": {
   "display_name": "Python 3",
   "language": "python",
   "name": "python3"
  },
  "language_info": {
   "codemirror_mode": {
    "name": "ipython",
    "version": 3
   },
   "file_extension": ".py",
   "mimetype": "text/x-python",
   "name": "python",
   "nbconvert_exporter": "python",
   "pygments_lexer": "ipython3",
   "version": "3.7.1"
  }
 },
 "nbformat": 4,
 "nbformat_minor": 2
}
